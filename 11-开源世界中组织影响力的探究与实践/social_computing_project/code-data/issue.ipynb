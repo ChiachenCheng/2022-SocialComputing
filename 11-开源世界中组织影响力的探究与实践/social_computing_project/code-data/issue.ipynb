{
 "cells": [
  {
   "cell_type": "code",
   "execution_count": 1,
   "metadata": {},
   "outputs": [],
   "source": [
    "from odps import ODPS\n",
    "from odps import options\n",
    "import oss2\n",
    "from odps.df import DataFrame\n",
    "import datetime\n",
    "import pandas as pd\n",
    "import numpy as np\n",
    "import threading\n",
    "import queue\n",
    "import time\n",
    "\n",
    "# connect信息\n",
    "from ACCESS import ACCESS_ID\n",
    "from ACCESS import SECRET_ACCESS_KEY\n",
    "from ACCESS import ODPS_PROJECT\n",
    "from ACCESS import ODPS_ENDPOINT\n",
    "\n",
    "# # 此为外网地址\n",
    "OSS_ENDPOINT = 'http://oss-cn-shanghai.aliyuncs.com'\n",
    "OSS_BUCKET = 'hypertrons'\n",
    "\n",
    "# oss实例\n",
    "auth = oss2.Auth(ACCESS_ID, SECRET_ACCESS_KEY)\n",
    "bucket = oss2.Bucket(auth, OSS_ENDPOINT, OSS_BUCKET)\n",
    "\n",
    "# 创建odps实例\n",
    "o = ODPS(ACCESS_ID, SECRET_ACCESS_KEY, project=ODPS_PROJECT, endpoint=ODPS_ENDPOINT)\n",
    "options.tunnel.limit_instance_tunnel = False\n",
    "# options.read_timeout = 3600000\n",
    "\n",
    "hints = {'odps.sql.allow.fullscan': 'true', 'odps.sql.submit.mode': 'script'}"
   ]
  },
  {
   "cell_type": "code",
   "execution_count": null,
   "metadata": {},
   "outputs": [],
   "source": []
  },
  {
   "cell_type": "code",
   "execution_count": 44,
   "metadata": {},
   "outputs": [
    {
     "data": {
      "text/html": [
       "100"
      ],
      "text/plain": [
       "100"
      ]
     },
     "execution_count": 44,
     "metadata": {},
     "output_type": "execute_result"
    }
   ],
   "source": [
    "drop_sql = '''\n",
    "DROP TABLE IF EXISTS organizations;\n",
    "CREATE TABLE IF NOT EXISTS organizations\n",
    "(\n",
    "    org_id STRING,\n",
    "    org_login STRING,\n",
    "    degree BIGINT\n",
    ");\n",
    "'''\n",
    "o.execute_sql(drop_sql, hints=hints)\n",
    "\n",
    "select_sql = '''\n",
    "    set odps.sql.validate.orderby.limit=false;\n",
    "    INSERT INTO organizations\n",
    "    SELECT org_id, org_login, degree\n",
    "    FROM Yue_org_degree\n",
    "    ORDER BY degree DESC\n",
    "    LIMIT 100\n",
    "    '''\n",
    "o.execute_sql(select_sql, hints=hints)\n",
    "tmp = DataFrame(o.get_table('organizations'))\n",
    "tmp.count()"
   ]
  },
  {
   "cell_type": "code",
   "execution_count": 45,
   "metadata": {},
   "outputs": [
    {
     "name": "stdout",
     "output_type": "stream",
     "text": [
      "1342004 google 2910\n",
      "131524 mozilla 1953\n",
      "6154722 microsoft 1831\n",
      "107424 jenkinsci 1332\n",
      "6154722 Microsoft 1226\n",
      "2810941 GoogleCloudPlatform 1219\n",
      "1459110 IBM 1210\n",
      "9919 github 1177\n",
      "25064361 alchemycodelab 1113\n",
      "66423638 IIM-Creative-Technology 1107\n",
      "6844498 Azure 1087\n"
     ]
    }
   ],
   "source": [
    "select_sql = '''\n",
    "    set odps.sql.validate.orderby.limit=false;\n",
    "    SELECT org_id, org_login, degree\n",
    "    FROM organizations\n",
    "    ORDER BY degree DESC\n",
    "    '''\n",
    "table = o.execute_sql(select_sql, hints=hints)\n",
    "i=0\n",
    "with table.open_reader(tunnel=True) as reader:\n",
    "    for record in reader:\n",
    "        print(record.org_id, record.org_login, record.degree)\n",
    "        i += 1\n",
    "        if i > 10:\n",
    "            break"
   ]
  },
  {
   "cell_type": "code",
   "execution_count": 48,
   "metadata": {},
   "outputs": [
    {
     "data": {
      "text/html": [
       "3134810"
      ],
      "text/plain": [
       "3134810"
      ]
     },
     "execution_count": 48,
     "metadata": {},
     "output_type": "execute_result"
    }
   ],
   "source": [
    "drop_sql = '''\n",
    "DROP TABLE IF EXISTS Yue_PR_issue;\n",
    "CREATE TABLE IF NOT EXISTS Yue_PR_issue\n",
    "(\n",
    "    org_id STRING,\n",
    "    org_login STRING,\n",
    "    issue_title STRING,\n",
    "    issue_body STRING\n",
    ");\n",
    "'''\n",
    "o.execute_sql(drop_sql, hints=hints)\n",
    "\n",
    "select_sql = '''\n",
    "    INSERT INTO Yue_PR_issue\n",
    "    SELECT org_id, org_login, issue_title, issue_body\n",
    "    FROM ods_github_log\n",
    "    WHERE type='PullRequestEvent' AND org_id IN (SELECT org_id FROM organizations) AND issue_body IS NOT NULL\n",
    "'''\n",
    "o.execute_sql(select_sql, hints=hints)\n",
    "tmp = DataFrame(o.get_table('Yue_PR_issue'))\n",
    "tmp.count()"
   ]
  },
  {
   "cell_type": "code",
   "execution_count": 49,
   "metadata": {},
   "outputs": [
    {
     "name": "stdout",
     "output_type": "stream",
     "text": [
      "6154722 microsoft 598737\n",
      "6844498 Azure 597489\n",
      "1342004 google 395130\n",
      "131524 mozilla 387036\n",
      "6154722 Microsoft 322525\n",
      "2810941 GoogleCloudPlatform 248023\n",
      "107424 jenkinsci 148271\n",
      "1459110 IBM 112646\n",
      "9919 github 94634\n",
      "9950313 nodejs 82417\n",
      "3636186 makersacademy 31757\n"
     ]
    }
   ],
   "source": [
    "select_sql = '''\n",
    "    set odps.sql.validate.orderby.limit=false;\n",
    "    SELECT org_id, org_login, count(issue_title) AS count\n",
    "    FROM Yue_PR_issue\n",
    "    GROUP BY org_id, org_login\n",
    "    ORDER BY count DESC\n",
    "    '''\n",
    "table = o.execute_sql(select_sql, hints=hints)\n",
    "i=0\n",
    "with table.open_reader(tunnel=True) as reader:\n",
    "    for record in reader:\n",
    "        print(record.org_id, record.org_login, record.count)\n",
    "        i += 1\n",
    "        if i > 10:\n",
    "            break"
   ]
  },
  {
   "cell_type": "raw",
   "metadata": {},
   "source": [
    "select_sql = '''\n",
    "    set odps.sql.validate.orderby.limit=false;\n",
    "    SELECT org_id, org_login, issue_title, issue_body\n",
    "    FROM Yue_PR_issue\n",
    "    ORDER BY org_id DESC\n",
    "    '''\n",
    "i = 0\n",
    "table = o.execute_sql(select_sql, hints=hints)\n",
    "list_id = []\n",
    "list_login = []\n",
    "list_issue = []\n",
    "with table.open_reader(tunnel=True) as reader:\n",
    "    _id = -1\n",
    "    _login = \"\"\n",
    "    _issue = \"\"\n",
    "    for record in reader:\n",
    "        i += 1\n",
    "        if i % 10000 == 0:\n",
    "            print(i / 10000)\n",
    "        if record.org_id != _id or record.org_login != _login:\n",
    "            list_id.append(_id)\n",
    "            list_login.append(_login)\n",
    "            list_issue.append(_issue)\n",
    "            _id = record.org_id\n",
    "            _login = record.org_login\n",
    "            _issue = \"\"\n",
    "        _issue += record.issue_title\n",
    "        _issue += record.issue_body"
   ]
  },
  {
   "cell_type": "code",
   "execution_count": 57,
   "metadata": {},
   "outputs": [
    {
     "name": "stdout",
     "output_type": "stream",
     "text": [
      "1004228 Strategery-Inc  Add cache options for prevent underscore in URLs\n",
      "1004228 Strategery-Inc - Added  validation.\n",
      "1004228 Strategery-Inc - Color swatches fix.\n",
      "1004228 Strategery-Inc - Fix for configurable swatches.\n",
      "1004228 Strategery-Inc - Fix for image.\n",
      "1004228 Strategery-Inc - Fix for issue #96 in GitHub.\n",
      "1004228 Strategery-Inc - Fixed default mode.\n",
      "1004228 Strategery-Inc - Fixed version.\n",
      "1004228 Strategery-Inc - Last version.\n",
      "1004228 Strategery-Inc - New version.\n",
      "1004228 Strategery-Inc - README.md\n",
      "1004228 Strategery-Inc - RWD $j  validation and disabled jQuery include by default.\n",
      "1004228 Strategery-Inc - Replaced tabs by spaces, cut large code lines, replaced date function.\n",
      "1004228 Strategery-Inc - Trigger window > delayed-resize event to fix items height.\n",
      "1004228 Strategery-Inc - Updated README.\n",
      "1004228 Strategery-Inc - Updated jQuery IAS - Fixed previous button selector. - Added previo…\n",
      "1004228 Strategery-Inc - V. 3.2.3\n",
      "1004228 Strategery-Inc - V.0.2.1 - Warnings fixes.\n",
      "1004228 Strategery-Inc - V.0.2.2 - Tabs fixes.\n",
      "1004228 Strategery-Inc - V.0.2.2 - Warnings and tabs fixes.\n",
      "1004228 Strategery-Inc - jQuery IAS update.\n",
      "1004228 Strategery-Inc Add php7.1.* support\n",
      "1004228 Strategery-Inc Added Compatibility with Fishpig Splash Pages\n",
      "1004228 Strategery-Inc Added Composer JSON file\n",
      "1004228 Strategery-Inc Adjusted description\n",
      "1004228 Strategery-Inc Change PHP 7 constraint to all version\n",
      "1004228 Strategery-Inc Change PHP 7 constraint to allow 7.4\n",
      "1004228 Strategery-Inc Composer support\n",
      "1004228 Strategery-Inc Controlling \"debug mode\" fixed.\n",
      "1004228 Strategery-Inc Created public event hooks\n",
      "1004228 Strategery-Inc D/warnings fixes\n",
      "1004228 Strategery-Inc Debug flag reads from config field\n",
      "1004228 Strategery-Inc Develop\n",
      "1004228 Strategery-Inc Disable debug by default\n",
      "1004228 Strategery-Inc Feedback\n",
      "1004228 Strategery-Inc Feedback\n",
      "1004228 Strategery-Inc Feedback\n",
      "1004228 Strategery-Inc Fix Bundling. Fixes #50 Fixes #39 Fixes #10.\n",
      "1004228 Strategery-Inc Fix Uncaught TypeError: $(...).catalogAddToCart is not a function issue\n",
      "1004228 Strategery-Inc Fix for Ajax add to Cart on Ajax loaded products\n",
      "1004228 Strategery-Inc Fix for Ajax add to cart on newly rendered products\n",
      "1004228 Strategery-Inc Fix js error when bundling enabled\n",
      "1004228 Strategery-Inc Fix js error when bundling enabled\n",
      "1004228 Strategery-Inc Fix loading text\n",
      "1004228 Strategery-Inc Fix selector for pagination\n",
      "1004228 Strategery-Inc Fix selector for pagination\n",
      "1004228 Strategery-Inc Fix to work with M2 HTML minifier\n",
      "1004228 Strategery-Inc Fix using product item\n",
      "1004228 Strategery-Inc Fix using product item\n",
      "1004228 Strategery-Inc Fixed possible JS error caused by commit 27fe1463c08e7d9d58fe59c1cb7e…\n",
      "1004228 Strategery-Inc Fixes for JS bundling and merging\n",
      "1004228 Strategery-Inc Fixes for JS bundling and merging\n",
      "1004228 Strategery-Inc Hide toolbar by default\n",
      "1004228 Strategery-Inc Improved requireJs configuration.\n",
      "1004228 Strategery-Inc Magento1 - 3.5.3 update\n",
      "1004228 Strategery-Inc Make module production ready\n",
      "1004228 Strategery-Inc New Theme PPO - Fresh (WIP).\n",
      "1004228 Strategery-Inc Prevent adding underscores to URL\n",
      "1004228 Strategery-Inc Ready addendum\n",
      "1004228 Strategery-Inc Rectify cache instance to prevent cache being created on the filesystem ...\n",
      "1004228 Strategery-Inc Release 0.2.0 \n",
      "1004228 Strategery-Inc Remove default values for not existing fields\n",
      "1004228 Strategery-Inc Remove default values for not existing variables\n",
      "1004228 Strategery-Inc Remove meaningless text\n",
      "1004228 Strategery-Inc Remove meaningless text\n",
      "1004228 Strategery-Inc Remove version from composer.json\n",
      "1004228 Strategery-Inc Revert \"- Strategery InfiniteScroll 2 - Magento 2\"\n",
      "1004228 Strategery-Inc Separated the external library from the AMD module and added a depend…\n",
      "1004228 Strategery-Inc Trigger the event that loads javascript in the added html\n",
      "1004228 Strategery-Inc Update README.md\n",
      "1004228 Strategery-Inc Update js.phtml\n",
      "1004228 Strategery-Inc Update modman\n",
      "1004228 Strategery-Inc Updates version of InfiniteScroll to 2.3.1\n",
      "1004228 Strategery-Inc adding a fix for urls on loaded pages to be protocol based in getNext…\n",
      "1004228 Strategery-Inc adding an event to hook into once IS is loaded\n",
      "1004228 Strategery-Inc fix for #97 for correct mode pickup based on: getparam > sessionvalue…\n",
      "1004228 Strategery-Inc fixed PHP 7.2 issue, fixes #194\n",
      "1004228 Strategery-Inc fixed modman file\n",
      "1004228 Strategery-Inc forced script text/x-magento-init to get it work\n",
      "1004228 Strategery-Inc hot fix jquery\n",
      "1004228 Strategery-Inc php 7.2.0 compatibility\n",
      "1004228 Strategery-Inc removed custom feed update methods\n",
      "1004228 Strategery-Inc replace $j reference with jQuery\n",
      "1004228 Strategery-Inc switched feed URL to HTTPS\n",
      "107424 jenkinsci  \tFixes node reference for mode selector. Improve logging in RetentionStrategy\n",
      "107424 jenkinsci     JENKINS-28064   'Replace nr. of failed test cases' option doesn't work \n",
      "107424 jenkinsci   Add Documentation for Fields in the JSON Schema\n",
      "107424 jenkinsci   Small fixes and more tests for multiple IQ server support CLM-19160 INT-6202\n",
      "107424 jenkinsci  (#JENKINS-28709) Bug Fix! \n",
      "107424 jenkinsci  3.x branch [JENKINS-39355 follow up][JENKINS-40382] Pick up SCM API 2.x\n",
      "107424 jenkinsci  AccuRev plugin makes too many AccuRev server calls\n",
      "107424 jenkinsci  Add Chinese translation\n",
      "107424 jenkinsci  Add JENKINS_AGENT_WORKDIR env var (update of #44)\n",
      "107424 jenkinsci  Add auto app creation provided by IQ verifyOrCreateApplication CLM-9951 CLM-9736\n",
      "107424 jenkinsci  Add backend API for fetching date presets.\n",
      "107424 jenkinsci  Add compatible with other plugins\n",
      "107424 jenkinsci  Add description parameter for typetalkSend step\n",
      "107424 jenkinsci  Add details tab UI assertions to SmokeTests\n",
      "107424 jenkinsci  Add full support for Android Emulator 2.0\n",
      "107424 jenkinsci  Add metric to count build status w/project tag & replace invalid project name chars w/ dash\n",
      "107424 jenkinsci  Add option to force reserve a locked or queued resource\n"
     ]
    }
   ],
   "source": [
    "select_sql = '''\n",
    "    set odps.sql.validate.orderby.limit=false;\n",
    "    SELECT distinct org_id, org_login, issue_title, issue_body\n",
    "    FROM Yue_PR_issue\n",
    "    '''\n",
    "i = 0\n",
    "table = o.execute_sql(select_sql, hints=hints)\n",
    "with table.open_reader(tunnel=True) as reader:\n",
    "    for record in reader:\n",
    "        print(record.org_id, record.org_login, record.issue_title)\n",
    "        i += 1\n",
    "        if i > 100:\n",
    "            break"
   ]
  },
  {
   "cell_type": "code",
   "execution_count": null,
   "metadata": {},
   "outputs": [],
   "source": []
  }
 ],
 "metadata": {
  "kernelspec": {
   "display_name": "Python 3",
   "language": "python",
   "name": "python3"
  },
  "language_info": {
   "codemirror_mode": {
    "name": "ipython",
    "version": 3
   },
   "file_extension": ".py",
   "mimetype": "text/x-python",
   "name": "python",
   "nbconvert_exporter": "python",
   "pygments_lexer": "ipython3",
   "version": "3.8.3"
  }
 },
 "nbformat": 4,
 "nbformat_minor": 4
}
