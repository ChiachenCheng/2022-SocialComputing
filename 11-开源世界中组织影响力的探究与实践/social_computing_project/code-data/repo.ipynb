{
 "cells": [
  {
   "cell_type": "code",
   "execution_count": 360,
   "metadata": {},
   "outputs": [
    {
     "data": {
      "text/plain": [
       "odps.Schema {\n",
       "  repo_id                                   int64           \n",
       "  repo_name                                 string          \n",
       "  org_id                                    int64           \n",
       "  org_login                                 string          \n",
       "  repo_description                          string          \n",
       "  repo_size                                 int32           \n",
       "  repo_stargazers_count                     int32           \n",
       "  repo_forks_count                          int32           \n",
       "  repo_language                             string          \n",
       "  repo_has_issues                           int8            \n",
       "  repo_has_projects                         int8            \n",
       "  repo_has_downloads                        int8            \n",
       "  repo_has_wiki                             int8            \n",
       "  repo_has_pages                            int8            \n",
       "  repo_license                              string          \n",
       "  repo_default_branch                       string          \n",
       "  repo_created_at                           datetime        \n",
       "  repo_updated_at                           datetime        \n",
       "  repo_pushed_at                            datetime        \n",
       "  repo_has_pr                               int64           \n",
       "}"
      ]
     },
     "execution_count": 360,
     "metadata": {},
     "output_type": "execute_result"
    }
   ],
   "source": [
    "from wordcloud import WordCloud\n",
    "from sklearn.feature_extraction.text import CountVectorizer\n",
    "from sklearn.decomposition import PCA\n",
    "from sklearn.cluster import KMeans\n",
    "from sklearn.cluster import DBSCAN\n",
    "import matplotlib.pyplot as plt\n",
    "from odps import ODPS\n",
    "from odps import options\n",
    "import oss2\n",
    "from odps.df import DataFrame\n",
    "import datetime\n",
    "import pandas as pd\n",
    "import numpy as np\n",
    "import threading\n",
    "import queue\n",
    "import time\n",
    "\n",
    "# connect信息\n",
    "from ACCESS import ACCESS_ID\n",
    "from ACCESS import SECRET_ACCESS_KEY\n",
    "from ACCESS import ODPS_PROJECT\n",
    "from ACCESS import ODPS_ENDPOINT\n",
    "\n",
    "# # 此为外网地址\n",
    "OSS_ENDPOINT = 'http://oss-cn-shanghai.aliyuncs.com'\n",
    "OSS_BUCKET = 'hypertrons'\n",
    "\n",
    "# oss实例\n",
    "auth = oss2.Auth(ACCESS_ID, SECRET_ACCESS_KEY)\n",
    "bucket = oss2.Bucket(auth, OSS_ENDPOINT, OSS_BUCKET)\n",
    "\n",
    "# 创建odps实例\n",
    "o = ODPS(ACCESS_ID, SECRET_ACCESS_KEY, project=ODPS_PROJECT, endpoint=ODPS_ENDPOINT)\n",
    "options.tunnel.limit_instance_tunnel = False\n",
    "# options.read_timeout = 3600000\n",
    "\n",
    "hints = {'odps.sql.allow.fullscan': 'true', 'odps.sql.submit.mode': 'script'}\n",
    "dim_github_repo = DataFrame(o.get_table('dim_github_repo'))\n",
    "dim_github_repo.dtypes"
   ]
  },
  {
   "cell_type": "code",
   "execution_count": 361,
   "metadata": {},
   "outputs": [
    {
     "data": {
      "text/html": [
       "13890"
      ],
      "text/plain": [
       "13890"
      ]
     },
     "execution_count": 361,
     "metadata": {},
     "output_type": "execute_result"
    }
   ],
   "source": [
    "# 数据清洗\n",
    "drop_sql = '''\n",
    "DROP TABLE IF EXISTS repo_info;\n",
    "CREATE TABLE IF NOT EXISTS repo_info\n",
    "(\n",
    "    repo_id STRING,\n",
    "    repo_name STRING,\n",
    "    org_id STRING,\n",
    "    org_login STRING,\n",
    "    repo_language STRING,\n",
    "    repo_description STRING,\n",
    "    repo_stargazers_count STRING\n",
    ");\n",
    "'''\n",
    "o.execute_sql(drop_sql, hints=hints)\n",
    "\n",
    "select_sql = '''\n",
    "    INSERT INTO repo_info\n",
    "    SELECT repo_id, repo_name, org_id, org_login, repo_language, repo_description, repo_stargazers_count\n",
    "    FROM dim_github_repo\n",
    "    WHERE org_id IS NOT NULL AND org_id!=0\n",
    "        AND repo_language IS NOT NULL AND repo_language!='' \n",
    "        AND repo_description IS NOT NULL AND repo_description!=''\n",
    "        AND repo_stargazers_count >= 1000\n",
    "    '''\n",
    "o.execute_sql(select_sql, hints=hints)\n",
    "tmp = DataFrame(o.get_table('repo_info'))\n",
    "tmp.count()"
   ]
  },
  {
   "cell_type": "code",
   "execution_count": 362,
   "metadata": {},
   "outputs": [
    {
     "name": "stdout",
     "output_type": "stream",
     "text": [
      "An advanced, composable, functional reactive model-view-viewmodel framework for all .NET platforms that is inspired by functional reactive programming. ReactiveUI allows you to  abstract mutable state away from your user interfaces, express the idea around a feature in one readable place and improve the testability of your application. 6722\n",
      "Node TDS module for connecting to SQL Server databases. 1421\n",
      "Lightweight, scriptable browser as a service with an HTTP API 3276\n",
      "Serialization framework for Rust 4932\n",
      "A RESTful API package for the Laravel and Lumen frameworks. 9249\n",
      "Speech and Vision Based Intelligent Personal Assistant 4840\n",
      ":a: web framework for building virtual reality experiences. 13467\n",
      "Memory Networks implementations 1700\n",
      "This component provides a partial, native PHP implementation for the Mbstring extension. 7004\n",
      "Integrate AWS IAM with Kubernetes 1093\n",
      "Reliable messages resolve distributed transactions 1468\n"
     ]
    }
   ],
   "source": [
    "select_sql = '''\n",
    "    set odps.sql.validate.orderby.limit=false;\n",
    "    SELECT repo_name, org_id, org_login, repo_language, repo_description, repo_stargazers_count\n",
    "    FROM repo_info\n",
    "'''\n",
    "i = 0\n",
    "table = o.execute_sql(select_sql, hints=hints)\n",
    "with table.open_reader(tunnel=True) as reader:\n",
    "    for record in reader:\n",
    "        #print(record.org_login, record.repo_language, record.repo_description, record.repo_stargazers_count)\n",
    "        print(record.repo_description, record.repo_stargazers_count)\n",
    "        i += 1\n",
    "        if i > 10:\n",
    "            break"
   ]
  },
  {
   "cell_type": "code",
   "execution_count": 363,
   "metadata": {},
   "outputs": [],
   "source": [
    "select_sql = '''\n",
    "    set odps.sql.validate.orderby.limit=false;\n",
    "    SELECT repo_language, repo_description\n",
    "    FROM repo_info\n",
    "'''\n",
    "str_repo_language = \"\"\n",
    "str_repo_description = \"\"\n",
    "list_repo_language = []\n",
    "list_repo_description = []\n",
    "table = o.execute_sql(select_sql, hints=hints)\n",
    "i = 0\n",
    "with table.open_reader(tunnel=True) as reader:\n",
    "    for record in reader:\n",
    "        str_repo_language += record.repo_language\n",
    "        str_repo_language += \" \"\n",
    "        str_repo_description += record.repo_description\n",
    "        str_repo_description += \" \"\n",
    "        list_repo_language.append(record.repo_language)\n",
    "        list_repo_description.append(record.repo_description)\n",
    "        #i+=1\n",
    "        #if i % 10000 == 0:\n",
    "        #    print(i)"
   ]
  },
  {
   "cell_type": "code",
   "execution_count": 364,
   "metadata": {},
   "outputs": [
    {
     "data": {
      "text/plain": [
       "<wordcloud.wordcloud.WordCloud at 0x2692ba90e80>"
      ]
     },
     "execution_count": 364,
     "metadata": {},
     "output_type": "execute_result"
    }
   ],
   "source": [
    "text = str_repo_language\n",
    "#stopwords = set(['he', 'is'])\n",
    "wc = WordCloud(\n",
    "    #width=200,                  # 设置宽为400px\n",
    "    #height=150,                 # 设置高为300px\n",
    "    background_color='white',    # 设置背景颜色为白色\n",
    "    #stopwords=stopwords,         # 设置禁用词，在生成的词云中不会出现set集合中的词\n",
    "    #max_font_size=100,           # 设置最大的字体大小，所有词都不会超过100px\n",
    "    #min_font_size=10,            # 设置最小的字体大小，所有词都不会超过10px\n",
    "    #max_words=431,                # 设置最大的单词个数\n",
    "    scale=2                     # 扩大两倍\n",
    ")\n",
    "wc.generate(text)\n",
    "wc.to_file('img.jpg')"
   ]
  },
  {
   "cell_type": "code",
   "execution_count": 365,
   "metadata": {},
   "outputs": [],
   "source": [
    "#画图    \n",
    "def draw(model, dataset):\n",
    "    fig = plt.figure(figsize = [4,4])\n",
    "    ax = fig.add_subplot(1,1,1)\n",
    "    plt.xticks(())\n",
    "    plt.yticks(())\n",
    "    colors = ['blue','red','green','yellow','green','orange','pink','brown','magenta','cyan']\n",
    "    k=0\n",
    "    for i in model.labels_:\n",
    "        plt.scatter(dataset[k][0], dataset[k][1], c=colors[i], marker='.',label=i)\n",
    "        k+=1\n",
    "        #if k == 1200:\n",
    "        #    break\n",
    "    #plt.legend()\n",
    "    plt.show()"
   ]
  },
  {
   "cell_type": "code",
   "execution_count": 366,
   "metadata": {},
   "outputs": [
    {
     "name": "stdout",
     "output_type": "stream",
     "text": [
      "words_num: 15127\n"
     ]
    },
    {
     "data": {
      "image/png": "[encoded data removed]",
      "text/plain": [
       "<Figure size 288x288 with 1 Axes>"
      ]
     },
     "metadata": {},
     "output_type": "display_data"
    }
   ],
   "source": [
    "# binary=False\n",
    "max_features = 100000\n",
    "corpus = list_repo_description\n",
    "\n",
    "cv_ = CountVectorizer(max_features=max_features, binary=False, lowercase=True, stop_words='english')\n",
    "result = cv_.fit_transform(corpus)\n",
    "print('words_num:',len(cv_.get_feature_names()))\n",
    "#查看词频结果\n",
    "#print(result.toarray())\n",
    "\n",
    "#PCA降维\n",
    "pca=PCA(n_components=2)\n",
    "data=pca.fit_transform(result.toarray())\n",
    "\n",
    "model = KMeans(n_clusters=6).fit(data)\n",
    "draw(model, data)"
   ]
  },
  {
   "cell_type": "code",
   "execution_count": 367,
   "metadata": {},
   "outputs": [
    {
     "name": "stdout",
     "output_type": "stream",
     "text": [
      "words_num: 15127\n"
     ]
    }
   ],
   "source": [
    "# 语料库\n",
    "max_features = 100000\n",
    "corpus = list_repo_description\n",
    "# 词向量的特征维度\n",
    "cv_ = CountVectorizer(max_features=max_features, binary=True, lowercase=True, stop_words='english')\n",
    "#计算词频\n",
    "result = cv_.fit_transform(corpus)\n",
    "#词汇数量\n",
    "print('words_num:',len(cv_.get_feature_names()))\n",
    "#输出词典\n",
    "#print('feature_names:',cv_.get_feature_names())\n",
    "#输出词汇\n",
    "#print('vocabulary_',cv_.vocabulary_)\n",
    "#查看词频结果\n",
    "#print(result.toarray())\n",
    "\n",
    "#PCA降维\n",
    "pca=PCA(n_components=2)\n",
    "data=pca.fit_transform(result.toarray())"
   ]
  },
  {
   "cell_type": "code",
   "execution_count": 368,
   "metadata": {},
   "outputs": [
    {
     "data": {
      "image/png": "[encoded data removed]",
      "text/plain": [
       "<Figure size 288x288 with 1 Axes>"
      ]
     },
     "metadata": {},
     "output_type": "display_data"
    }
   ],
   "source": [
    "# 使用基于密度聚类的DBSCAN\n",
    "model = DBSCAN(eps=0.1).fit(data)\n",
    "draw(model, data)"
   ]
  },
  {
   "cell_type": "code",
   "execution_count": 265,
   "metadata": {},
   "outputs": [
    {
     "data": {
      "image/png": "[encoded data removed]",
      "text/plain": [
       "<Figure size 288x288 with 1 Axes>"
      ]
     },
     "metadata": {},
     "output_type": "display_data"
    }
   ],
   "source": [
    "n_clusters = 6\n",
    "model = KMeans(n_clusters=n_clusters).fit(data)\n",
    "draw(model, data)"
   ]
  },
  {
   "cell_type": "markdown",
   "metadata": {},
   "source": [
    "##### DBSCAN和KMeans的聚类效果"
   ]
  },
  {
   "cell_type": "code",
   "execution_count": 377,
   "metadata": {},
   "outputs": [
    {
     "name": "stdout",
     "output_type": "stream",
     "text": [
      "{0, 1, 2, 3, 4, 5, -1}\n",
      "7\n"
     ]
    }
   ],
   "source": [
    "set_=set(model.labels_)\n",
    "print(set_)\n",
    "print(len(set_))\n",
    "\n",
    "description0 = []\n",
    "text_description0 = \"\"\n",
    "k=0\n",
    "for i in model.labels_:\n",
    "    if i == 1:\n",
    "        description0.append(list_repo_description[k])\n",
    "        text_description0 += list_repo_description[k]\n",
    "        text_description0 += \" \"\n",
    "    k+=1"
   ]
  },
  {
   "cell_type": "code",
   "execution_count": 378,
   "metadata": {},
   "outputs": [
    {
     "data": {
      "text/plain": [
       "<wordcloud.wordcloud.WordCloud at 0x2692b8de160>"
      ]
     },
     "execution_count": 378,
     "metadata": {},
     "output_type": "execute_result"
    }
   ],
   "source": [
    "text = text_description0\n",
    "#stopwords = set(['he', 'is'])\n",
    "wc = WordCloud(\n",
    "    #width=200,                  # 设置宽为400px\n",
    "    #height=150,                 # 设置高为300px\n",
    "    background_color='white',    # 设置背景颜色为白色\n",
    "    #stopwords=stopwords,         # 设置禁用词，在生成的词云中不会出现set集合中的词\n",
    "    #max_font_size=100,           # 设置最大的字体大小，所有词都不会超过100px\n",
    "    #min_font_size=10,            # 设置最小的字体大小，所有词都不会超过10px\n",
    "    #max_words=431,                # 设置最大的单词个数\n",
    "    scale=2                     # 扩大两倍\n",
    ")\n",
    "wc.generate(text)\n",
    "wc.to_file('img.jpg')"
   ]
  },
  {
   "cell_type": "code",
   "execution_count": 304,
   "metadata": {},
   "outputs": [],
   "source": [
    "# 统计比例\n",
    "cluster_ = []\n",
    "for i in range(n_clusters):\n",
    "    cluster_.append([])\n",
    "k=0\n",
    "for i in model.labels_:\n",
    "    cluster_[i].append(list_repo_language[k])\n",
    "    k+=1"
   ]
  },
  {
   "cell_type": "code",
   "execution_count": 343,
   "metadata": {},
   "outputs": [],
   "source": [
    "def draw_pie(n):\n",
    "    dict_={}\n",
    "    for item in cluster_[n]:\n",
    "        if item in dict_.keys():\n",
    "            dict_[item]=dict_[item]+1\n",
    "        else:\n",
    "            dict_[item]=1\n",
    "    dict_=sorted(dict_.items(),key=lambda x:x[1],reverse=True)\n",
    "    lang = []\n",
    "    frequency = []\n",
    "    for i in range(15):\n",
    "        lang.append(dict_[i][0])\n",
    "        frequency.append(dict_[i][1])\n",
    "    plt.pie(frequency, labels=lang)\n",
    "    plt.title('cluster_' + str(n))\n",
    "    plt.show()"
   ]
  },
  {
   "cell_type": "code",
   "execution_count": 355,
   "metadata": {},
   "outputs": [
    {
     "data": {
      "image/png": "[encoded data removed]",
      "text/plain": [
       "<Figure size 432x288 with 1 Axes>"
      ]
     },
     "metadata": {},
     "output_type": "display_data"
    }
   ],
   "source": [
    "for n in range(1):\n",
    "    draw_pie(n)"
   ]
  },
  {
   "cell_type": "code",
   "execution_count": null,
   "metadata": {},
   "outputs": [],
   "source": []
  },
  {
   "cell_type": "code",
   "execution_count": null,
   "metadata": {},
   "outputs": [],
   "source": []
  },
  {
   "cell_type": "code",
   "execution_count": null,
   "metadata": {},
   "outputs": [],
   "source": []
  },
  {
   "cell_type": "code",
   "execution_count": null,
   "metadata": {},
   "outputs": [],
   "source": []
  },
  {
   "cell_type": "code",
   "execution_count": null,
   "metadata": {},
   "outputs": [],
   "source": []
  }
 ],
 "metadata": {
  "kernelspec": {
   "display_name": "Python 3",
   "language": "python",
   "name": "python3"
  },
  "language_info": {
   "codemirror_mode": {
    "name": "ipython",
    "version": 3
   },
   "file_extension": ".py",
   "mimetype": "text/x-python",
   "name": "python",
   "nbconvert_exporter": "python",
   "pygments_lexer": "ipython3",
   "version": "3.8.3"
  }
 },
 "nbformat": 4,
 "nbformat_minor": 4
}
