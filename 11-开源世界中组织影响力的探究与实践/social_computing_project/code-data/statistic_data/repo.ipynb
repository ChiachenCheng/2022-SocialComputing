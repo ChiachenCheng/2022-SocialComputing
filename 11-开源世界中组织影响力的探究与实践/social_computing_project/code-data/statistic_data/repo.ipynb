{
 "cells": [
  {
   "cell_type": "code",
   "execution_count": 1,
   "metadata": {},
   "outputs": [
    {
     "name": "stdout",
     "output_type": "stream",
     "text": [
      "数据库连接成功！\n",
      "获取表成功！\n"
     ]
    }
   ],
   "source": [
    "from odps import ODPS\n",
    "from odps import options\n",
    "from odps.df import DataFrame\n",
    "import numpy as np\n",
    "import pandas as pd\n",
    "import matplotlib.pyplot as plt\n",
    "\n",
    "# connect信息\n",
    "from ACCESS import ACCESS_ID\n",
    "from ACCESS import SECRET_ACCESS_KEY\n",
    "from ACCESS import ODPS_PROJECT\n",
    "from ACCESS import ODPS_ENDPOINT\n",
    "\n",
    "# 创建odps实例\n",
    "o = ODPS(ACCESS_ID, SECRET_ACCESS_KEY,\n",
    "         project=ODPS_PROJECT, endpoint=ODPS_ENDPOINT)\n",
    "options.tunnel.limit_instance_tunnel = False\n",
    "# options.read_timeout = 3600000\n",
    "print(\"数据库连接成功！\")\n",
    "\n",
    "# ods_github_log = DataFrame(o.get_table('ods_github_log'))\n",
    "# ods_github_users = DataFrame(o.get_table('ods_github_users'))\n",
    "# dim_github_actor = DataFrame(o.get_table('dim_github_actor'))\n",
    "# dim_github_pr = DataFrame(o.get_table('dim_github_pr'))\n",
    "dim_github_repo = DataFrame(o.get_table('dim_github_repo'))\n",
    "print(\"获取表成功！\")"
   ]
  },
  {
   "cell_type": "code",
   "execution_count": 2,
   "metadata": {},
   "outputs": [
    {
     "name": "stdout",
     "output_type": "stream",
     "text": [
      "odps.Record {\n",
      "  max_star        0\n",
      "  max_fork        0\n",
      "}\n"
     ]
    }
   ],
   "source": [
    "select_sql ='''\n",
    "SELECT MAX(repo_stargazers_count) AS \"max_star\", MAX(repo_forks_count) AS \"max_fork\"\n",
    "FROM dim_github_repo\n",
    "WHERE repo_has_pr = 0\n",
    "'''\n",
    "table = o.execute_sql(select_sql, hints={'odps.sql.allow.fullscan': 'true', 'odps.sql.submit.mode': 'script'})\n",
    "with table.open_reader(tunnel=True) as reader:\n",
    "    for record in reader:\n",
    "        print(record)"
   ]
  },
  {
   "cell_type": "code",
   "execution_count": 3,
   "metadata": {},
   "outputs": [],
   "source": [
    "df = pd.DataFrame(columns=['feature', 'boolean', 'avg_star', 'avg_fork', \"num_star\", \"num_fork\"])\n",
    "\n",
    "features = ['issues', 'projects', 'downloads', 'wiki', 'pages']\n",
    "for feature in features:\n",
    "\n",
    "    select_sql =f'''\n",
    "    SELECT\n",
    "        repo_has_{feature} AS \"boolean\", \n",
    "        AVG(repo_stargazers_count) AS \"avg_star\", AVG(repo_forks_count) AS \"avg_fork\", \n",
    "        COUNT(repo_stargazers_count) AS \"num_star\", COUNT(repo_forks_count) AS \"num_fork\"\n",
    "    FROM dim_github_repo\n",
    "    WHERE repo_has_pr = 1\n",
    "    GROUP BY repo_has_{feature}\n",
    "    '''\n",
    "    \n",
    "    table = o.execute_sql(select_sql, hints={'odps.sql.allow.fullscan': 'true', 'odps.sql.submit.mode': 'script'})\n",
    "    with table.open_reader(tunnel=True) as reader:\n",
    "        for record in reader:\n",
    "            df = df.append({\n",
    "                'feature':feature, 'boolean':record.boolean, \n",
    "                'avg_star':record.avg_star, 'avg_fork':record.avg_fork, \n",
    "                'num_star':record.num_star, \"num_fork\":record.num_fork}, ignore_index=True)"
   ]
  },
  {
   "cell_type": "code",
   "execution_count": 4,
   "metadata": {},
   "outputs": [
    {
     "data": {
      "text/html": [
       "<div>\n",
       "<style scoped>\n",
       "    .dataframe tbody tr th:only-of-type {\n",
       "        vertical-align: middle;\n",
       "    }\n",
       "\n",
       "    .dataframe tbody tr th {\n",
       "        vertical-align: top;\n",
       "    }\n",
       "\n",
       "    .dataframe thead th {\n",
       "        text-align: right;\n",
       "    }\n",
       "</style>\n",
       "<table border=\"1\" class=\"dataframe\">\n",
       "  <thead>\n",
       "    <tr style=\"text-align: right;\">\n",
       "      <th></th>\n",
       "      <th>feature</th>\n",
       "      <th>boolean</th>\n",
       "      <th>avg_star</th>\n",
       "      <th>avg_fork</th>\n",
       "      <th>num_star</th>\n",
       "      <th>num_fork</th>\n",
       "    </tr>\n",
       "  </thead>\n",
       "  <tbody>\n",
       "    <tr>\n",
       "      <th>0</th>\n",
       "      <td>issues</td>\n",
       "      <td>0</td>\n",
       "      <td>1.354263</td>\n",
       "      <td>0.929228</td>\n",
       "      <td>3122676</td>\n",
       "      <td>3122676</td>\n",
       "    </tr>\n",
       "    <tr>\n",
       "      <th>1</th>\n",
       "      <td>issues</td>\n",
       "      <td>1</td>\n",
       "      <td>10.208270</td>\n",
       "      <td>3.056940</td>\n",
       "      <td>18236837</td>\n",
       "      <td>18236837</td>\n",
       "    </tr>\n",
       "    <tr>\n",
       "      <th>2</th>\n",
       "      <td>projects</td>\n",
       "      <td>0</td>\n",
       "      <td>5.480377</td>\n",
       "      <td>1.770945</td>\n",
       "      <td>2535052</td>\n",
       "      <td>2535052</td>\n",
       "    </tr>\n",
       "    <tr>\n",
       "      <th>3</th>\n",
       "      <td>projects</td>\n",
       "      <td>1</td>\n",
       "      <td>9.376228</td>\n",
       "      <td>2.877169</td>\n",
       "      <td>18824461</td>\n",
       "      <td>18824461</td>\n",
       "    </tr>\n",
       "    <tr>\n",
       "      <th>4</th>\n",
       "      <td>downloads</td>\n",
       "      <td>0</td>\n",
       "      <td>26.746578</td>\n",
       "      <td>7.628615</td>\n",
       "      <td>112662</td>\n",
       "      <td>112662</td>\n",
       "    </tr>\n",
       "    <tr>\n",
       "      <th>5</th>\n",
       "      <td>downloads</td>\n",
       "      <td>1</td>\n",
       "      <td>8.819291</td>\n",
       "      <td>2.719986</td>\n",
       "      <td>21246851</td>\n",
       "      <td>21246851</td>\n",
       "    </tr>\n",
       "    <tr>\n",
       "      <th>6</th>\n",
       "      <td>wiki</td>\n",
       "      <td>0</td>\n",
       "      <td>21.916285</td>\n",
       "      <td>7.588058</td>\n",
       "      <td>1070937</td>\n",
       "      <td>1070937</td>\n",
       "    </tr>\n",
       "    <tr>\n",
       "      <th>7</th>\n",
       "      <td>wiki</td>\n",
       "      <td>1</td>\n",
       "      <td>8.227513</td>\n",
       "      <td>2.490281</td>\n",
       "      <td>20288576</td>\n",
       "      <td>20288576</td>\n",
       "    </tr>\n",
       "    <tr>\n",
       "      <th>8</th>\n",
       "      <td>pages</td>\n",
       "      <td>0</td>\n",
       "      <td>6.886797</td>\n",
       "      <td>2.341369</td>\n",
       "      <td>19604986</td>\n",
       "      <td>19604986</td>\n",
       "    </tr>\n",
       "    <tr>\n",
       "      <th>9</th>\n",
       "      <td>pages</td>\n",
       "      <td>1</td>\n",
       "      <td>31.564014</td>\n",
       "      <td>7.265831</td>\n",
       "      <td>1754527</td>\n",
       "      <td>1754527</td>\n",
       "    </tr>\n",
       "  </tbody>\n",
       "</table>\n",
       "</div>"
      ],
      "text/plain": [
       "     feature boolean   avg_star  avg_fork  num_star  num_fork\n",
       "0     issues       0   1.354263  0.929228   3122676   3122676\n",
       "1     issues       1  10.208270  3.056940  18236837  18236837\n",
       "2   projects       0   5.480377  1.770945   2535052   2535052\n",
       "3   projects       1   9.376228  2.877169  18824461  18824461\n",
       "4  downloads       0  26.746578  7.628615    112662    112662\n",
       "5  downloads       1   8.819291  2.719986  21246851  21246851\n",
       "6       wiki       0  21.916285  7.588058   1070937   1070937\n",
       "7       wiki       1   8.227513  2.490281  20288576  20288576\n",
       "8      pages       0   6.886797  2.341369  19604986  19604986\n",
       "9      pages       1  31.564014  7.265831   1754527   1754527"
      ]
     },
     "execution_count": 4,
     "metadata": {},
     "output_type": "execute_result"
    }
   ],
   "source": [
    "df"
   ]
  },
  {
   "cell_type": "code",
   "execution_count": 6,
   "metadata": {},
   "outputs": [
    {
     "data": {
      "image/png": "[encoded data removed]",
      "text/plain": [
       "<Figure size 1008x360 with 2 Axes>"
      ]
     },
     "metadata": {
      "needs_background": "light"
     },
     "output_type": "display_data"
    }
   ],
   "source": [
    "plt.figure(figsize=(14, 5))\n",
    "x = np.arange(len(features))  # x轴刻度标签位置\n",
    "width = 0.25  # 柱子的宽度\n",
    "metrics = ['star', 'fork'] # 衡量指标\n",
    "\n",
    "for idx, metric in enumerate(metrics):\n",
    "\n",
    "    plt.subplot(1,2,idx+1)\n",
    "\n",
    "    col_name = f'avg_{metric}'\n",
    "    plt.bar(x - width/2, df.loc[df['boolean']==0, :][col_name], width=width, label='False', fc='deepskyblue')\n",
    "    plt.bar(x + width/2, df.loc[df['boolean']==1, :][col_name], width=width, label='True', fc='pink')\n",
    "    plt.title(f'Average # of Repositories\\'s {metric.capitalize()}s', size=15)\n",
    "    plt.xticks(ticks=x, labels=features, size=14)\n",
    "    plt.yticks(size=14)\n",
    "    plt.grid(axis=\"y\")\n",
    "    plt.legend(fontsize=14)\n",
    "plt.show()"
   ]
  },
  {
   "cell_type": "code",
   "execution_count": 8,
   "metadata": {},
   "outputs": [
    {
     "name": "stdout",
     "output_type": "stream",
     "text": [
      "odps.Record {\n",
      "  repo_has_pages              0\n",
      "  repo_has_wiki               0\n",
      "  avg_star                    17.77989352177461\n",
      "  avg_fork                    6.970622486481523\n",
      "}\n",
      "odps.Record {\n",
      "  repo_has_pages              0\n",
      "  repo_has_wiki               1\n",
      "  avg_star                    6.326962811801015\n",
      "  avg_fork                    2.1034549979653203\n",
      "}\n",
      "odps.Record {\n",
      "  repo_has_pages              1\n",
      "  repo_has_wiki               0\n",
      "  avg_star                    57.1144211900301\n",
      "  avg_fork                    12.842051518837852\n",
      "}\n",
      "odps.Record {\n",
      "  repo_has_pages              1\n",
      "  repo_has_wiki               1\n",
      "  avg_star                    29.811503445990883\n",
      "  avg_fork                    6.883355827488507\n",
      "}\n"
     ]
    }
   ],
   "source": [
    "select_sql ='''\n",
    "SELECT repo_has_pages, repo_has_wiki, AVG(repo_stargazers_count) AS \"avg_star\", AVG(repo_forks_count) AS \"avg_fork\"\n",
    "FROM dim_github_repo\n",
    "WHERE repo_has_pr = 1\n",
    "GROUP BY repo_has_pages, repo_has_wiki\n",
    "'''\n",
    "table = o.execute_sql(select_sql, hints={'odps.sql.allow.fullscan': 'true', 'odps.sql.submit.mode': 'script'})\n",
    "with table.open_reader(tunnel=True) as reader:\n",
    "    for record in reader:\n",
    "        print(record)"
   ]
  }
 ],
 "metadata": {
  "interpreter": {
   "hash": "a8f61be024eba58adef938c9aa1e29e02cb3dece83a5348b1a2dafd16a070453"
  },
  "kernelspec": {
   "display_name": "Python 3.8.8 ('base')",
   "language": "python",
   "name": "python3"
  },
  "language_info": {
   "codemirror_mode": {
    "name": "ipython",
    "version": 3
   },
   "file_extension": ".py",
   "mimetype": "text/x-python",
   "name": "python",
   "nbconvert_exporter": "python",
   "pygments_lexer": "ipython3",
   "version": "3.8.8"
  },
  "orig_nbformat": 4
 },
 "nbformat": 4,
 "nbformat_minor": 2
}
