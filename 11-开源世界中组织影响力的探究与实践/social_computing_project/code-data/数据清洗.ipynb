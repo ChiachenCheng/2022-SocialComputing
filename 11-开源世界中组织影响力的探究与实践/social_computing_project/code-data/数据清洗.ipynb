{
 "cells": [
  {
   "cell_type": "code",
   "execution_count": 2,
   "metadata": {},
   "outputs": [],
   "source": [
    "from odps import ODPS\n",
    "from odps import options\n",
    "import oss2\n",
    "from odps.df import DataFrame\n",
    "import datetime\n",
    "import pandas as pd\n",
    "import numpy as np\n",
    "import threading\n",
    "import queue\n",
    "import time\n",
    "\n",
    "# connect信息\n",
    "from ACCESS import ACCESS_ID\n",
    "from ACCESS import SECRET_ACCESS_KEY\n",
    "from ACCESS import ODPS_PROJECT\n",
    "from ACCESS import ODPS_ENDPOINT\n",
    "\n",
    "# # 此为外网地址\n",
    "OSS_ENDPOINT = 'http://oss-cn-shanghai.aliyuncs.com'\n",
    "OSS_BUCKET = 'hypertrons'\n",
    "\n",
    "# oss实例\n",
    "auth = oss2.Auth(ACCESS_ID, SECRET_ACCESS_KEY)\n",
    "bucket = oss2.Bucket(auth, OSS_ENDPOINT, OSS_BUCKET)\n",
    "\n",
    "# 创建odps实例\n",
    "o = ODPS(ACCESS_ID, SECRET_ACCESS_KEY, project=ODPS_PROJECT, endpoint=ODPS_ENDPOINT)\n",
    "options.tunnel.limit_instance_tunnel = False\n",
    "# options.read_timeout = 3600000\n",
    "\n",
    "hints = {'odps.sql.allow.fullscan': 'true', 'odps.sql.submit.mode': 'script'}"
   ]
  },
  {
   "cell_type": "code",
   "execution_count": 34,
   "metadata": {},
   "outputs": [
    {
     "data": {
      "text/html": [
       "4172135"
      ],
      "text/plain": [
       "4172135"
      ]
     },
     "execution_count": 34,
     "metadata": {},
     "output_type": "execute_result"
    }
   ],
   "source": [
    "# 创建Yue_ORG表(排除同一个actor加入同一个组织的记录)\n",
    "# 用户属于某组织\n",
    "drop_sql = '''\n",
    "DROP TABLE IF EXISTS {TEMP_TABLE_NAME};\n",
    "CREATE TABLE IF NOT EXISTS {TEMP_TABLE_NAME}\n",
    "(\n",
    "    actor_id STRING,\n",
    "    actor_org_id STRING,\n",
    "    actor_org_login STRING\n",
    ");\n",
    "'''.format(\n",
    "    TEMP_TABLE_NAME='Yue_ORG'\n",
    ")\n",
    "o.execute_sql(drop_sql, hints=hints)\n",
    "\n",
    "select_sql = '''\n",
    "    INSERT INTO {TEMP_TABLE_NAME}\n",
    "    SELECT DISTINCT actor_id, org_id, org_login\n",
    "    FROM ods_github_log\n",
    "    WHERE type='MemberEvent'\n",
    "    '''.format(\n",
    "        TEMP_TABLE_NAME='Yue_ORG'\n",
    "    )\n",
    "o.execute_sql(select_sql, hints=hints)\n",
    "tmp = DataFrame(o.get_table('Yue_ORG'))\n",
    "tmp.count()"
   ]
  },
  {
   "cell_type": "code",
   "execution_count": 3,
   "metadata": {},
   "outputs": [
    {
     "data": {
      "text/html": [
       "39918126"
      ],
      "text/plain": [
       "39918126"
      ]
     },
     "execution_count": 3,
     "metadata": {},
     "output_type": "execute_result"
    }
   ],
   "source": [
    "# 创建Yue_PR表(排除同一个actor提交给同一个组织的PR)\n",
    "# 用户给某仓库提PR\n",
    "drop_sql = '''\n",
    "DROP TABLE IF EXISTS {TEMP_TABLE_NAME};\n",
    "CREATE TABLE IF NOT EXISTS {TEMP_TABLE_NAME}\n",
    "(\n",
    "    actor_id STRING,\n",
    "    repo_id STRING,\n",
    "    repo_org_id STRING,\n",
    "    repo_org_login STRING\n",
    ");\n",
    "'''.format(\n",
    "    TEMP_TABLE_NAME='Yue_PR'\n",
    ")\n",
    "o.execute_sql(drop_sql, hints=hints)\n",
    "\n",
    "select_sql = '''\n",
    "    INSERT INTO {TEMP_TABLE_NAME}\n",
    "    SELECT DISTINCT actor_id, repo_id, org_id, org_login\n",
    "    FROM ods_github_log\n",
    "    WHERE type='PullRequestEvent' AND org_id IS NOT NULL AND org_login IS NOT NULL\n",
    "    '''.format(\n",
    "        TEMP_TABLE_NAME='Yue_PR'\n",
    "    )\n",
    "o.execute_sql(select_sql, hints=hints)\n",
    "tmp = DataFrame(o.get_table('Yue_PR'))\n",
    "tmp.count()"
   ]
  },
  {
   "cell_type": "code",
   "execution_count": null,
   "metadata": {},
   "outputs": [],
   "source": []
  },
  {
   "cell_type": "code",
   "execution_count": 4,
   "metadata": {},
   "outputs": [
    {
     "data": {
      "text/html": [
       "4200803"
      ],
      "text/plain": [
       "4200803"
      ]
     },
     "execution_count": 4,
     "metadata": {},
     "output_type": "execute_result"
    }
   ],
   "source": [
    "# 创建Yue_ORG_To_ORG表\n",
    "# 组织给某组织提PR,相当于一个组织与另一个组织存在一条有向边\n",
    "drop_sql = '''\n",
    "DROP TABLE IF EXISTS {TEMP_TABLE_NAME};\n",
    "CREATE TABLE IF NOT EXISTS {TEMP_TABLE_NAME}\n",
    "(\n",
    "    actor_org_id STRING,\n",
    "    actor_org_login STRING,\n",
    "    repo_org_id STRING,\n",
    "    repo_org_login STRING\n",
    ");\n",
    "'''.format(\n",
    "    TEMP_TABLE_NAME='Yue_ORG_To_ORG'\n",
    ")\n",
    "o.execute_sql(drop_sql, hints=hints)\n",
    "\n",
    "select_sql = '''\n",
    "    INSERT INTO {TEMP_TABLE_NAME}\n",
    "    SELECT DISTINCT \n",
    "            Yue_ORG.actor_org_id, \n",
    "            Yue_ORG.actor_org_login, \n",
    "            Yue_PR.repo_org_id, \n",
    "            Yue_PR.repo_org_login\n",
    "    FROM Yue_PR INNER JOIN Yue_ORG ON Yue_PR.actor_id = Yue_ORG.actor_id\n",
    "    WHERE Yue_PR.repo_org_id != '0'\n",
    "    '''.format(\n",
    "        TEMP_TABLE_NAME='Yue_ORG_To_ORG'\n",
    "    )\n",
    "o.execute_sql(select_sql, hints=hints)\n",
    "\n",
    "tmp = DataFrame(o.get_table('Yue_ORG_To_ORG'))\n",
    "tmp.count()"
   ]
  },
  {
   "cell_type": "code",
   "execution_count": 64,
   "metadata": {},
   "outputs": [],
   "source": []
  },
  {
   "cell_type": "code",
   "execution_count": 64,
   "metadata": {},
   "outputs": [
    {
     "name": "stdout",
     "output_type": "stream",
     "text": [
      "1342004 google 6817\n",
      "47359 apache 6311\n",
      "69631 facebook 6127\n",
      "1503512 Homebrew 5445\n",
      "6154722 microsoft 5107\n",
      "3637556 DefinitelyTyped 4816\n",
      "9919 github 4772\n",
      "6154722 Microsoft 4622\n",
      "13629408 kubernetes 4099\n",
      "761456 hashicorp 3067\n",
      "5429470 docker 2823\n"
     ]
    }
   ],
   "source": [
    "# 对每个组织,统计来自不同组织的pr的数量(入度),并排序\n",
    "select_sql = '''\n",
    "    set odps.sql.validate.orderby.limit=false;\n",
    "    SELECT repo_org_id, repo_org_login, count(actor_org_id) AS count\n",
    "    FROM Yue_ORG_To_ORG\n",
    "    GROUP BY repo_org_id, repo_org_login\n",
    "    ORDER BY count DESC\n",
    "    '''.format(\n",
    "        TEMP_TABLE_NAME='Yue_ORG_To_ORG'\n",
    "    )\n",
    "table = o.execute_sql(select_sql, hints={'odps.sql.allow.fullscan': 'true', 'odps.sql.submit.mode': 'script'})\n",
    "\n",
    "list_ = []\n",
    "i=0\n",
    "with table.open_reader(tunnel=True) as reader:\n",
    "    for record in reader:\n",
    "        print(record.repo_org_id, record.repo_org_login, record.count)\n",
    "        i += 1\n",
    "        if i > 10:\n",
    "            break"
   ]
  },
  {
   "cell_type": "code",
   "execution_count": 65,
   "metadata": {},
   "outputs": [
    {
     "name": "stdout",
     "output_type": "stream",
     "text": [
      "组织数： 224910\n",
      "1342004 google 2910\n",
      "131524 mozilla 1953\n",
      "6154722 microsoft 1831\n",
      "107424 jenkinsci 1332\n",
      "6154722 Microsoft 1226\n",
      "2810941 GoogleCloudPlatform 1219\n",
      "1459110 IBM 1210\n",
      "9919 github 1177\n",
      "25064361 alchemycodelab 1113\n",
      "66423638 IIM-Creative-Technology 1107\n",
      "6844498 Azure 1087\n"
     ]
    }
   ],
   "source": [
    "# 初始化组织表，并统计出度\n",
    "drop_sql = '''\n",
    "DROP TABLE IF EXISTS Yue_org_degree;\n",
    "CREATE TABLE IF NOT EXISTS Yue_org_degree\n",
    "(\n",
    "    org_id STRING,\n",
    "    org_login STRING,\n",
    "    degree BIGINT\n",
    ");\n",
    "'''\n",
    "\n",
    "o.execute_sql(drop_sql, hints=hints)\n",
    "\n",
    "select_sql = '''\n",
    "    INSERT INTO Yue_org_degree\n",
    "    SELECT actor_org_id, actor_org_login, count(repo_org_id)\n",
    "    FROM Yue_ORG_To_ORG\n",
    "    GROUP BY actor_org_id, actor_org_login\n",
    "    HAVING actor_org_id!= '0'\n",
    "    '''\n",
    "o.execute_sql(select_sql, hints=hints)\n",
    "tmp = DataFrame(o.get_table('Yue_org_degree'))\n",
    "print('组织数：',tmp.count())\n",
    "\n",
    "\n",
    "select_sql = '''\n",
    "    set odps.sql.validate.orderby.limit=false;\n",
    "    SELECT *\n",
    "    FROM Yue_org_degree\n",
    "    ORDER BY degree DESC\n",
    "    '''\n",
    "table = o.execute_sql(select_sql, hints=hints)\n",
    "list_ = []\n",
    "i=0\n",
    "with table.open_reader(tunnel=True) as reader:\n",
    "    for record in reader:\n",
    "        print(record.org_id, record.org_login, record.degree)\n",
    "        i += 1\n",
    "        if i > 10:\n",
    "            break"
   ]
  },
  {
   "cell_type": "code",
   "execution_count": null,
   "metadata": {},
   "outputs": [],
   "source": []
  },
  {
   "cell_type": "code",
   "execution_count": null,
   "metadata": {},
   "outputs": [],
   "source": []
  },
  {
   "cell_type": "code",
   "execution_count": null,
   "metadata": {},
   "outputs": [],
   "source": []
  },
  {
   "cell_type": "code",
   "execution_count": null,
   "metadata": {},
   "outputs": [],
   "source": []
  },
  {
   "cell_type": "code",
   "execution_count": null,
   "metadata": {},
   "outputs": [],
   "source": []
  },
  {
   "cell_type": "code",
   "execution_count": null,
   "metadata": {},
   "outputs": [],
   "source": []
  },
  {
   "cell_type": "code",
   "execution_count": null,
   "metadata": {},
   "outputs": [],
   "source": []
  },
  {
   "cell_type": "code",
   "execution_count": null,
   "metadata": {},
   "outputs": [],
   "source": []
  },
  {
   "cell_type": "code",
   "execution_count": null,
   "metadata": {},
   "outputs": [],
   "source": []
  },
  {
   "cell_type": "code",
   "execution_count": null,
   "metadata": {},
   "outputs": [],
   "source": []
  },
  {
   "cell_type": "code",
   "execution_count": null,
   "metadata": {},
   "outputs": [],
   "source": []
  },
  {
   "cell_type": "code",
   "execution_count": null,
   "metadata": {},
   "outputs": [],
   "source": []
  },
  {
   "cell_type": "code",
   "execution_count": null,
   "metadata": {},
   "outputs": [],
   "source": []
  },
  {
   "cell_type": "code",
   "execution_count": null,
   "metadata": {},
   "outputs": [],
   "source": []
  },
  {
   "cell_type": "code",
   "execution_count": null,
   "metadata": {},
   "outputs": [],
   "source": []
  },
  {
   "cell_type": "code",
   "execution_count": null,
   "metadata": {},
   "outputs": [],
   "source": []
  }
 ],
 "metadata": {
  "kernelspec": {
   "display_name": "Python 3",
   "language": "python",
   "name": "python3"
  },
  "language_info": {
   "codemirror_mode": {
    "name": "ipython",
    "version": 3
   },
   "file_extension": ".py",
   "mimetype": "text/x-python",
   "name": "python",
   "nbconvert_exporter": "python",
   "pygments_lexer": "ipython3",
   "version": "3.8.3"
  }
 },
 "nbformat": 4,
 "nbformat_minor": 4
}
