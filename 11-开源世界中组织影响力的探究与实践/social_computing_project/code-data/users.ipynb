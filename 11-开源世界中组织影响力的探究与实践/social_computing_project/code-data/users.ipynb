{
 "cells": [
  {
   "cell_type": "code",
   "execution_count": 3,
   "metadata": {},
   "outputs": [
    {
     "data": {
      "text/plain": [
       "<Instance 20220429044446540g0jne4pr2>"
      ]
     },
     "execution_count": 3,
     "metadata": {},
     "output_type": "execute_result"
    }
   ],
   "source": [
    "from odps import ODPS\n",
    "from odps import options\n",
    "import oss2\n",
    "from odps.df import DataFrame\n",
    "import datetime\n",
    "import pandas as pd\n",
    "import numpy as np\n",
    "import threading\n",
    "import queue\n",
    "\n",
    "# connect信息\n",
    "from ACCESS import ACCESS_ID\n",
    "from ACCESS import SECRET_ACCESS_KEY\n",
    "from ACCESS import ODPS_PROJECT\n",
    "from ACCESS import ODPS_ENDPOINT\n",
    "#FILE_PATH = ''\n",
    "\n",
    "# # 此为外网地址\n",
    "OSS_ENDPOINT = 'http://oss-cn-shanghai.aliyuncs.com'\n",
    "OSS_BUCKET = 'hypertrons'\n",
    "\n",
    "# oss实例\n",
    "auth = oss2.Auth(ACCESS_ID, SECRET_ACCESS_KEY)\n",
    "bucket = oss2.Bucket(auth, OSS_ENDPOINT, OSS_BUCKET)\n",
    "\n",
    "# 创建odps实例\n",
    "o = ODPS(ACCESS_ID, SECRET_ACCESS_KEY, project=ODPS_PROJECT, endpoint=ODPS_ENDPOINT)\n",
    "options.tunnel.limit_instance_tunnel = False\n",
    "# options.read_timeout = 3600000\n",
    "\n",
    "TEMP_TABLE_NAME = 'TEMP_TABLE_NAME'\n",
    "\n",
    "# 创建临时数据库\n",
    "drop_sql = '''\n",
    "DROP TABLE IF EXISTS {TEMP_TABLE_NAME};\n",
    "CREATE TABLE IF NOT EXISTS {TEMP_TABLE_NAME}\n",
    "(\n",
    "    actor_login STRING,\n",
    "    followers STRING\n",
    ");\n",
    "'''.format(\n",
    "    TEMP_TABLE_NAME=TEMP_TABLE_NAME\n",
    ")\n",
    "o.execute_sql(drop_sql, hints={'odps.sql.allow.fullscan': 'true', 'odps.sql.submit.mode': 'script'})"
   ]
  },
  {
   "cell_type": "code",
   "execution_count": 4,
   "metadata": {},
   "outputs": [],
   "source": [
    "select_sql = '''\n",
    "    set odps.sql.validate.orderby.limite=false;\n",
    "    INSERT INTO {TEMP_TABLE_NAME}\n",
    "    SELECT login, followers\n",
    "    FROM ods_github_users\n",
    "    '''.format(\n",
    "        TEMP_TABLE_NAME=TEMP_TABLE_NAME\n",
    "    )\n",
    "table = o.execute_sql(select_sql, hints={'odps.sql.allow.fullscan': 'true', 'odps.sql.submit.mode': 'script'})"
   ]
  },
  {
   "cell_type": "code",
   "execution_count": 5,
   "metadata": {},
   "outputs": [
    {
     "name": "stdout",
     "output_type": "stream",
     "text": [
      "获取数据成功\n"
     ]
    }
   ],
   "source": [
    "# 获取需要导出的项目\n",
    "select_sql = '''\n",
    "    set odps.sql.validate.orderby.limit=false;\n",
    "    SELECT distinct actor_login, followers FROM {TEMP_TABLE_NAME}\n",
    "    '''.format(\n",
    "        TEMP_TABLE_NAME=TEMP_TABLE_NAME\n",
    "    )\n",
    "table = o.execute_sql(select_sql, hints={'odps.sql.allow.fullscan': 'true', 'odps.sql.submit.mode': 'script'})\n",
    "print('获取数据成功')"
   ]
  },
  {
   "cell_type": "code",
   "execution_count": null,
   "metadata": {},
   "outputs": [],
   "source": []
  },
  {
   "cell_type": "code",
   "execution_count": 40,
   "metadata": {},
   "outputs": [],
   "source": [
    "followers_num_list = []\n",
    "with table.open_reader(tunnel=True) as reader:\n",
    "    for record in reader:\n",
    "        followers = record.followers\n",
    "        if followers is None:\n",
    "            followers_num_list.append(0)\n",
    "        else:\n",
    "            followers_num_list.append(followers.count(',') + 1)"
   ]
  },
  {
   "cell_type": "code",
   "execution_count": 72,
   "metadata": {},
   "outputs": [],
   "source": [
    "followers_num_list.sort(reverse=True)\n",
    "followers_sum = sum(followers_num_list)\n",
    "followers_len = len(followers_num_list)"
   ]
  },
  {
   "cell_type": "code",
   "execution_count": 73,
   "metadata": {},
   "outputs": [
    {
     "data": {
      "text/plain": [
       "<matplotlib.axes._subplots.AxesSubplot at 0x2488271bfa0>"
      ]
     },
     "execution_count": 73,
     "metadata": {},
     "output_type": "execute_result"
    },
    {
     "data": {
      "image/png": "[encoded data removed]",
      "text/plain": [
       "<Figure size 432x288 with 1 Axes>"
      ]
     },
     "metadata": {},
     "output_type": "display_data"
    }
   ],
   "source": [
    "import seaborn as sns\n",
    "sns.set()\n",
    "sns.distplot(followers_num_list)"
   ]
  },
  {
   "cell_type": "code",
   "execution_count": 122,
   "metadata": {},
   "outputs": [],
   "source": [
    "s = 0\n",
    "for i in range(followers_len):\n",
    "    s += followers_num_list[i]\n",
    "    if s >= 0.5 * followers_sum:\n",
    "        actor_percentage_1 = i / followers_len\n",
    "        break\n",
    "s = 0\n",
    "for i in range(followers_len):\n",
    "    s += followers_num_list[i]\n",
    "    if s >= 0.8 * followers_sum:\n",
    "        actor_percentage_2 = i / followers_len\n",
    "        break"
   ]
  },
  {
   "cell_type": "code",
   "execution_count": 123,
   "metadata": {},
   "outputs": [
    {
     "name": "stdout",
     "output_type": "stream",
     "text": [
      "0.018350132550787508\n",
      "0.12510809623045407\n"
     ]
    }
   ],
   "source": [
    "print(actor_percentage_1)\n",
    "# 近前2%的人掌握了50%的粉丝总数\n",
    "print(actor_percentage_2)\n",
    "# 近前12%的人掌握了80%的粉丝总数"
   ]
  },
  {
   "cell_type": "code",
   "execution_count": 130,
   "metadata": {},
   "outputs": [
    {
     "data": {
      "image/png": "[encoded data removed]",
      "text/plain": [
       "<Figure size 432x288 with 1 Axes>"
      ]
     },
     "metadata": {},
     "output_type": "display_data"
    }
   ],
   "source": [
    "import matplotlib.pyplot as plt\n",
    "plt.plot(np.arange(0, 100, 100 / followers_len),followers_num_list)\n",
    "plt.scatter(actor_percentage_1*100, followers_num_list[int(actor_percentage_1*followers_len)],c=['red'],s=[100])\n",
    "plt.scatter(actor_percentage_2*100, followers_num_list[int(actor_percentage_2*followers_len)],c=['orange'],s=[100])\n",
    "plt.xlabel('order', fontsize=15)\n",
    "plt.ylabel('followers', fontsize=15)\n",
    "plt.show()"
   ]
  },
  {
   "cell_type": "code",
   "execution_count": null,
   "metadata": {},
   "outputs": [],
   "source": []
  },
  {
   "cell_type": "code",
   "execution_count": null,
   "metadata": {},
   "outputs": [],
   "source": []
  },
  {
   "cell_type": "code",
   "execution_count": null,
   "metadata": {},
   "outputs": [],
   "source": []
  }
 ],
 "metadata": {
  "kernelspec": {
   "display_name": "Python 3",
   "language": "python",
   "name": "python3"
  },
  "language_info": {
   "codemirror_mode": {
    "name": "ipython",
    "version": 3
   },
   "file_extension": ".py",
   "mimetype": "text/x-python",
   "name": "python",
   "nbconvert_exporter": "python",
   "pygments_lexer": "ipython3",
   "version": "3.8.3"
  }
 },
 "nbformat": 4,
 "nbformat_minor": 4
}
