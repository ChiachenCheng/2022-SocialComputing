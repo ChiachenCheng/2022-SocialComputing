{
 "cells": [
  {
   "cell_type": "code",
   "execution_count": 1,
   "id": "2ea063ce-fc02-4b6b-9f4f-087cf8e7a46f",
   "metadata": {},
   "outputs": [],
   "source": [
    "import numpy as np\n",
    "import matplotlib.pyplot as plt\n",
    "import seaborn as sns\n",
    "from sklearn.metrics import silhouette_score"
   ]
  },
  {
   "cell_type": "code",
   "execution_count": 2,
   "id": "8d9a62eb-e596-428b-8814-9b5bd40f90dc",
   "metadata": {},
   "outputs": [],
   "source": [
    "class KMeans():\n",
    "    def __init__(self, num_clusters, dist, max_iter = 1000):\n",
    "        self.k = num_clusters\n",
    "        self.dist = dist          # (n, f) * (k, f) -> (n, k)\n",
    "        self.max_iter = max_iter\n",
    "        self.labels = np.array([])\n",
    "        self.centers = np.array([])\n",
    "    \n",
    "    def fit(self, X):\n",
    "        num_items, num_features = X.shape\n",
    "        \n",
    "        idx = np.random.randint(0, num_items, (self.k,))\n",
    "        self.centers = X[idx]\n",
    "        \n",
    "        for i in range(self.max_iter):            \n",
    "            self.labels = self.dist(X, self.centers).argmin(axis = 1)\n",
    "            old_centers = self.centers.copy()\n",
    "            for j in range(self.k):\n",
    "                if np.sum(self.labels == j) <= 0:\n",
    "                    continue\n",
    "                self.centers[j] = X[self.labels == j].mean(axis = 0)\n",
    "            if np.square(old_centers - self.centers).sum() <= 1e-5:\n",
    "                break\n",
    "                \n",
    "def EuclidianDistance(X, y):\n",
    "    assert X.shape[1] == y.shape[1]\n",
    "    X_2 = np.square(X).sum(axis = 1, keepdims = True)\n",
    "    y_2 = np.square(y).sum(axis = 1, keepdims = True).T\n",
    "    Xy = X @ y.T\n",
    "    return np.sqrt(-2 * Xy + X_2 + y_2)\n",
    "\n",
    "def CosineDistance(X, y, ep = 1.e-10):\n",
    "    assert X.shape[1] == y.shape[1]\n",
    "    Xy = X @ y.T\n",
    "    X_norm = np.sqrt(np.square(X).sum(axis = 1, keepdims = True) + ep)\n",
    "    y_norm = np.sqrt(np.square(y).sum(axis = 1, keepdims = True) + ep)\n",
    "    return 1 - Xy / (X_norm @ y_norm.T)"
   ]
  },
  {
   "cell_type": "code",
   "execution_count": 3,
   "id": "9ecaf0fb-3839-4a0a-b61b-c99bbe50f467",
   "metadata": {},
   "outputs": [],
   "source": [
    "X = np.random.randn(15,2)\n",
    "y = np.array([[0,1],[1,1],[2,2]])\n",
    "# print(CosineDistance(X, y))"
   ]
  },
  {
   "cell_type": "code",
   "execution_count": 13,
   "id": "5ff5616d-72e9-43a5-bed5-48eed8a007f3",
   "metadata": {},
   "outputs": [
    {
     "name": "stdout",
     "output_type": "stream",
     "text": [
      "[1 3 3 1 0 0 2 1 2 3 1 1 0 3 2] \n",
      " [[ 1.99925408 -1.01346733]\n",
      " [ 0.46673568  1.03623378]\n",
      " [-0.27980557 -1.51607618]\n",
      " [-0.79893281 -0.51388728]]\n",
      "0.30332436247486444\n"
     ]
    }
   ],
   "source": [
    "kmeans = KMeans(4, CosineDistance)\n",
    "kmeans.fit(X)\n",
    "\n",
    "print(kmeans.labels, '\\n', kmeans.centers)\n",
    "print(silhouette_score(X,kmeans.labels,metric='euclidean'))"
   ]
  },
  {
   "cell_type": "code",
   "execution_count": 5,
   "id": "77b3eb24-0b12-42de-ae61-c5a6653c54bc",
   "metadata": {},
   "outputs": [
    {
     "data": {
      "image/png": "[encoded data removed]",
      "text/plain": [
       "<Figure size 400x400 with 1 Axes>"
      ]
     },
     "metadata": {},
     "output_type": "display_data"
    }
   ],
   "source": [
    "color = ['red', 'blue', 'yellow', 'green']\n",
    "c_color = 'gray'\n",
    "sns.set_theme(style='darkgrid')\n",
    "plt.figure(dpi=100, figsize=(4,4))\n",
    "for k in range(kmeans.k):\n",
    "    x = X[kmeans.labels == k]\n",
    "    sns.scatterplot(x=x[:,0], y=x[:,1], color = color[k])\n",
    "sns.scatterplot(x=kmeans.centers[:,0], y=kmeans.centers[:,1], color = c_color)\n",
    "plt.show()"
   ]
  },
  {
   "cell_type": "code",
   "execution_count": null,
   "id": "4a43e6fc-92fb-4363-8f0f-62942c1132a2",
   "metadata": {},
   "outputs": [],
   "source": []
  }
 ],
 "metadata": {
  "kernelspec": {
   "display_name": "Python 3 (ipykernel)",
   "language": "python",
   "name": "python3"
  },
  "language_info": {
   "codemirror_mode": {
    "name": "ipython",
    "version": 3
   },
   "file_extension": ".py",
   "mimetype": "text/x-python",
   "name": "python",
   "nbconvert_exporter": "python",
   "pygments_lexer": "ipython3",
   "version": "3.9.7"
  }
 },
 "nbformat": 4,
 "nbformat_minor": 5
}
