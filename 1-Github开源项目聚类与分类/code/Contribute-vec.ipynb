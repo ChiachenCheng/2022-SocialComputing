{
 "cells": [
  {
   "cell_type": "code",
   "execution_count": 3,
   "id": "066ddd31-d42e-4d39-b9bb-6190ff13ce67",
   "metadata": {},
   "outputs": [],
   "source": [
    "import pandas as pd\n",
    "import numpy as np"
   ]
  },
  {
   "cell_type": "code",
   "execution_count": 58,
   "id": "442d763d-d578-44ff-9195-e4e178e53188",
   "metadata": {},
   "outputs": [
    {
     "name": "stdout",
     "output_type": "stream",
     "text": [
      "   Unnamed: 0    repo_id  actor_id    actor_login              type   action  \\\n",
      "0           0  159513310   9887585     snellingio        WatchEvent  started   \n",
      "1           1  167922316   9887585     snellingio        WatchEvent  started   \n",
      "2           2  170486632   9887585     snellingio        WatchEvent  started   \n",
      "3           3  105722352   9887716       vpperego        WatchEvent  started   \n",
      "4           4  158469400   9887743  ElliottMiller  PullRequestEvent   opened   \n",
      "\n",
      "          pull_merged  score  \n",
      "0  ('pull_merged', 0)      0  \n",
      "1  ('pull_merged', 0)      0  \n",
      "2  ('pull_merged', 0)      0  \n",
      "3  ('pull_merged', 0)      0  \n",
      "4  ('pull_merged', 0)      0  \n",
      "   Id  Label  timeset  indegree  outdegree  degree  pageranks  \\\n",
      "0   0    NaN      NaN         0          7       7   0.000006   \n",
      "1   1    NaN      NaN         2          0       2   0.000007   \n",
      "2   2    NaN      NaN         1          0       1   0.000007   \n",
      "3   3    NaN      NaN         1          0       1   0.000007   \n",
      "4   4    NaN      NaN         3          0       3   0.000008   \n",
      "\n",
      "   modularity_class  \n",
      "0               111  \n",
      "1               111  \n",
      "2               111  \n",
      "3               111  \n",
      "4               111  \n",
      "   index  user_id\n",
      "0      0    84712\n",
      "1      1  2893260\n",
      "2      2  4010813\n",
      "3      3  7610489\n",
      "4      4  3596952\n"
     ]
    }
   ],
   "source": [
    "action = pd.read_csv('./Action.csv')\n",
    "clf = pd.read_csv('./data_csv/Modularity.csv')\n",
    "idx2id = pd.read_csv('./data_csv/Index2Id.csv')\n",
    "\n",
    "action['score'] = 0\n",
    "\n",
    "print(action.head())\n",
    "print(clf.head())\n",
    "print(idx2id.head())"
   ]
  },
  {
   "cell_type": "code",
   "execution_count": 59,
   "id": "545a97ee-32f7-4734-9b36-99b19ee76f25",
   "metadata": {},
   "outputs": [],
   "source": [
    "def score(x):\n",
    "    res = 0\n",
    "    if x.type == 'IssuesEvent':\n",
    "        res = 1.\n",
    "        if x.action == 'opened':\n",
    "            res *= 2\n",
    "    elif x.type == 'PullRequestEvent':\n",
    "        res = 2.\n",
    "        if x.pull_merged == 1:\n",
    "            res *= 2.5\n",
    "    elif x.type == 'PullRequestReviewCommentEvent':\n",
    "        res = 4.\n",
    "    elif x.type == 'WatchEvent':\n",
    "        res = 1.\n",
    "    else:\n",
    "        res = 2.\n",
    "    return res\n",
    "\n",
    "action['score'] = action.apply(score, axis = 1)"
   ]
  },
  {
   "cell_type": "code",
   "execution_count": 60,
   "id": "75b45234-6b6f-42e6-8251-f601b4527322",
   "metadata": {},
   "outputs": [
    {
     "data": {
      "text/html": [
       "<div>\n",
       "<style scoped>\n",
       "    .dataframe tbody tr th:only-of-type {\n",
       "        vertical-align: middle;\n",
       "    }\n",
       "\n",
       "    .dataframe tbody tr th {\n",
       "        vertical-align: top;\n",
       "    }\n",
       "\n",
       "    .dataframe thead th {\n",
       "        text-align: right;\n",
       "    }\n",
       "</style>\n",
       "<table border=\"1\" class=\"dataframe\">\n",
       "  <thead>\n",
       "    <tr style=\"text-align: right;\">\n",
       "      <th></th>\n",
       "      <th>type</th>\n",
       "      <th>action</th>\n",
       "      <th>score</th>\n",
       "    </tr>\n",
       "  </thead>\n",
       "  <tbody>\n",
       "    <tr>\n",
       "      <th>0</th>\n",
       "      <td>WatchEvent</td>\n",
       "      <td>started</td>\n",
       "      <td>1.0</td>\n",
       "    </tr>\n",
       "    <tr>\n",
       "      <th>1</th>\n",
       "      <td>WatchEvent</td>\n",
       "      <td>started</td>\n",
       "      <td>1.0</td>\n",
       "    </tr>\n",
       "    <tr>\n",
       "      <th>2</th>\n",
       "      <td>WatchEvent</td>\n",
       "      <td>started</td>\n",
       "      <td>1.0</td>\n",
       "    </tr>\n",
       "    <tr>\n",
       "      <th>3</th>\n",
       "      <td>WatchEvent</td>\n",
       "      <td>started</td>\n",
       "      <td>1.0</td>\n",
       "    </tr>\n",
       "    <tr>\n",
       "      <th>4</th>\n",
       "      <td>PullRequestEvent</td>\n",
       "      <td>opened</td>\n",
       "      <td>2.0</td>\n",
       "    </tr>\n",
       "    <tr>\n",
       "      <th>...</th>\n",
       "      <td>...</td>\n",
       "      <td>...</td>\n",
       "      <td>...</td>\n",
       "    </tr>\n",
       "    <tr>\n",
       "      <th>99995</th>\n",
       "      <td>WatchEvent</td>\n",
       "      <td>started</td>\n",
       "      <td>1.0</td>\n",
       "    </tr>\n",
       "    <tr>\n",
       "      <th>99996</th>\n",
       "      <td>ForkEvent</td>\n",
       "      <td>NaN</td>\n",
       "      <td>2.0</td>\n",
       "    </tr>\n",
       "    <tr>\n",
       "      <th>99997</th>\n",
       "      <td>WatchEvent</td>\n",
       "      <td>started</td>\n",
       "      <td>1.0</td>\n",
       "    </tr>\n",
       "    <tr>\n",
       "      <th>99998</th>\n",
       "      <td>WatchEvent</td>\n",
       "      <td>started</td>\n",
       "      <td>1.0</td>\n",
       "    </tr>\n",
       "    <tr>\n",
       "      <th>99999</th>\n",
       "      <td>ForkEvent</td>\n",
       "      <td>NaN</td>\n",
       "      <td>2.0</td>\n",
       "    </tr>\n",
       "  </tbody>\n",
       "</table>\n",
       "<p>100000 rows × 3 columns</p>\n",
       "</div>"
      ],
      "text/plain": [
       "                   type   action  score\n",
       "0            WatchEvent  started    1.0\n",
       "1            WatchEvent  started    1.0\n",
       "2            WatchEvent  started    1.0\n",
       "3            WatchEvent  started    1.0\n",
       "4      PullRequestEvent   opened    2.0\n",
       "...                 ...      ...    ...\n",
       "99995        WatchEvent  started    1.0\n",
       "99996         ForkEvent      NaN    2.0\n",
       "99997        WatchEvent  started    1.0\n",
       "99998        WatchEvent  started    1.0\n",
       "99999         ForkEvent      NaN    2.0\n",
       "\n",
       "[100000 rows x 3 columns]"
      ]
     },
     "execution_count": 60,
     "metadata": {},
     "output_type": "execute_result"
    }
   ],
   "source": [
    "action[['type', 'action', 'score']]"
   ]
  },
  {
   "cell_type": "code",
   "execution_count": 61,
   "id": "b9913050-a176-4686-b98e-7ac7fa196406",
   "metadata": {},
   "outputs": [],
   "source": [
    "clf1 = pd.merge(clf, idx2id, left_on = 'Id', right_on = 'index')[['user_id', 'modularity_class']]\n",
    "clf1\n",
    "clf1['user_id'] = clf1['user_id'].astype('int64')\n",
    "action = pd.merge(clf1, action, how = 'right', left_on = 'user_id', right_on = 'actor_id')\n"
   ]
  },
  {
   "cell_type": "code",
   "execution_count": 69,
   "id": "0d3a6020-220f-453e-b116-c18a612a49d1",
   "metadata": {},
   "outputs": [],
   "source": [
    "action = action.fillna(method = 'ffill')\n",
    "action\n",
    "action.to_csv('./data_csv/Action.csv', index = 0)"
   ]
  },
  {
   "cell_type": "code",
   "execution_count": 1,
   "id": "9ed3f6c2-7d4a-40dd-b0d1-259ff786796b",
   "metadata": {},
   "outputs": [],
   "source": [
    "from read_data import read_data\n",
    "repo_name, repo_data = read_data()\n",
    "\n",
    "print(len(repo_name), len(repo_data))\n",
    "repo_name[0:10]"
   ]
  },
  {
   "cell_type": "code",
   "execution_count": 42,
   "id": "f8d5c3c7-a59b-4085-89bc-a52d11bcecb7",
   "metadata": {},
   "outputs": [
    {
     "name": "stdout",
     "output_type": "stream",
     "text": [
      "(24287, 1638)\n"
     ]
    }
   ],
   "source": [
    "action = pd.read_csv('./data_csv/Action.csv')\n",
    "vec = []\n",
    "num_classes = len(action['modularity_class'].unique())\n",
    "for repo_id in repo_name:\n",
    "    vec_item = np.zeros((num_classes,))\n",
    "    series = action.loc[action['repo_id'] == repo_id]\n",
    "    group = series.groupby('modularity_class')\n",
    "    idx = np.array(list(group.indices.keys())).astype('int')\n",
    "    # print(np.array(list(group.indices.keys())).astype('int'))\n",
    "    vec_item[idx] = np.sqrt(list(group.sum()['score']))\n",
    "    # print(vec_item[vec_item > 0])\n",
    "    vec.append(vec_item)\n",
    "    \n",
    "vec = np.array(vec)\n",
    "print(vec.shape)"
   ]
  },
  {
   "cell_type": "code",
   "execution_count": 1,
   "id": "2bfe2b46-e3eb-48b1-b0f8-ce90100613fe",
   "metadata": {},
   "outputs": [
    {
     "name": "stdout",
     "output_type": "stream",
     "text": [
      "Now loading text data...\n",
      "Now loading contribute vector data, this may take minutes.\n",
      "Text data's length:  24287\n",
      "Vector's shape:  (24287, 1638)\n"
     ]
    }
   ],
   "source": [
    "from get_dataset import get_dataset\n",
    "\n",
    "dset = get_dataset()"
   ]
  },
  {
   "cell_type": "code",
   "execution_count": null,
   "id": "396242c1-92d6-40c3-bd11-8e98e102ebeb",
   "metadata": {},
   "outputs": [],
   "source": []
  }
 ],
 "metadata": {
  "kernelspec": {
   "display_name": "Python 3 (ipykernel)",
   "language": "python",
   "name": "python3"
  },
  "language_info": {
   "codemirror_mode": {
    "name": "ipython",
    "version": 3
   },
   "file_extension": ".py",
   "mimetype": "text/x-python",
   "name": "python",
   "nbconvert_exporter": "python",
   "pygments_lexer": "ipython3",
   "version": "3.9.7"
  }
 },
 "nbformat": 4,
 "nbformat_minor": 5
}
